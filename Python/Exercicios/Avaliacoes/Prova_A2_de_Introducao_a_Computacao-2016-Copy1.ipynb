{
 "cells": [
  {
   "cell_type": "markdown",
   "metadata": {},
   "source": [
    "A2 de Introdução à computação – 13/06/2016\n",
    "--\n",
    "Professor: Renato Rocha Souza  \n",
    "--"
   ]
  },
  {
   "cell_type": "markdown",
   "metadata": {},
   "source": [
    "Nome do Aluno(a):"
   ]
  },
  {
   "cell_type": "code",
   "execution_count": null,
   "metadata": {
    "collapsed": true
   },
   "outputs": [],
   "source": [
    "meu_nome = input('Entre com o seu nome completo: ')\n",
    "print('Olá, {}!'.format(meu_nome))\n",
    "print('Bom trabalho!')"
   ]
  },
  {
   "cell_type": "code",
   "execution_count": null,
   "metadata": {
    "collapsed": true
   },
   "outputs": [],
   "source": [
    "# Somente estes módulos podem ser importados para a realização das questões\n",
    "import numpy as np\n",
    "import matplotlib.pyplot as plt\n",
    "import requests\n",
    "from bs4 import BeautifulSoup as bs\n",
    "%matplotlib inline"
   ]
  },
  {
   "cell_type": "markdown",
   "metadata": {},
   "source": [
    "Questão 1 (1,5 pontos)  \n",
    "\n",
    "Mostre graficamente que $ \\sin ^2 x + \\cos^2 x = 1. $  \n",
    "\n",
    "Dica: para melhor visualização do gráfico, mude a escala dos eixos com $plt.axis([x_{min},x_{max},y_{min},y_{max}])$"
   ]
  },
  {
   "cell_type": "code",
   "execution_count": null,
   "metadata": {
    "collapsed": true
   },
   "outputs": [],
   "source": [
    "#seu código aqui"
   ]
  },
  {
   "cell_type": "markdown",
   "metadata": {},
   "source": [
    "Questão 2 (2.5 pontos)  \n",
    "\n",
    "Partindo do código abaixo, escreva comandos para realizar as seguintes tarefas:\n",
    "- Identificar os candidatos a nomes próprios do texto e a frequência com que aparecem;\n",
    "- Identificar as 5 palavras mais comuns;\n",
    "- Identificar os tritongos;\n",
    "- Salvar os resultados em um arquivo chamado \"respostas_q2.txt\" no computador"
   ]
  },
  {
   "cell_type": "code",
   "execution_count": null,
   "metadata": {
    "collapsed": true
   },
   "outputs": [],
   "source": [
    "url = 'http://norvig.com/big.txt'\n",
    "page = requests.get(url)\n",
    "html = page.text\n",
    "sopa = bs(html, \"lxml\")\n",
    "texto = sopa.text"
   ]
  },
  {
   "cell_type": "code",
   "execution_count": null,
   "metadata": {},
   "outputs": [],
   "source": [
    "#seu código aqui"
   ]
  },
  {
   "cell_type": "markdown",
   "metadata": {},
   "source": [
    "Questão 3 (3 pontos)  \n",
    "\n",
    "Uma permutação é um arranjo ordenado de objetos. Por exemplo, $ 3124 \\ $ é uma das possíveis permutações dos dígitos $1, 2, 3$ e $4$. Se todas as permutações são ordenadas numericamente, chamamos a este arranjo de ordem lexicográfica. As permutações lexicográficas de $0, 1$ e $2$ são:  \n",
    "\n",
    "$012\\;021\\;102\\;120\\;201\\;210$    \n",
    "\n",
    "Qual o milionésimo elemento da ordenação lexicográfica dos dígitos $0, 1, 2, 3, 4, 5, 6, 7, 8$ e $9$?   "
   ]
  },
  {
   "cell_type": "code",
   "execution_count": null,
   "metadata": {
    "collapsed": true
   },
   "outputs": [],
   "source": [
    "#seu código aqui"
   ]
  },
  {
   "cell_type": "markdown",
   "metadata": {
    "collapsed": true
   },
   "source": [
    "Questão 4 (3 pontos) \n",
    "\n",
    "Implemente em Python uma classe chamada “Drone” com as seguintes propriedades:  \n",
    "- Quando instanciado, tem bateria carregada e está na posição $(x=0,y=0,z=0)$ metros;  \n",
    "- Possui bateria para duração 20 minutos;  \n",
    "- Consegue andar 1 m/s na vertical e 2 m/s na horizontal;  \n",
    "- Possui o metodo “voar”, que recebe uma coordenada de destino $(x_1,y_1)$. Esse método calcula a distância a navegar e avalia se o drone possui energia para chegar nestas coordenadas.  \n",
    "- Possui métodos para carregar a bateria, dizer a autonomia da bateria (em segundos), dizer a distância percorrida desde a última carga e a distância total percorrida desde que foi instanciado.  \n",
    "- Possui um método para dizer a coordenada atual\n",
    "\n",
    "OBS: Considere que o drone sempre ascende verticalmente até 20m antes de se deslocar horizontalmente, e percorre a mesma distância verticalmente. A distância percorrida na horizontal é o menor caminho entre as coordenadas de origem e destino. Use a fórmula: $$distância = \\sqrt{(x_1-x_0)^2 + (y_1-y_0)^2}$$"
   ]
  },
  {
   "cell_type": "code",
   "execution_count": 58,
   "metadata": {},
   "outputs": [
    {
     "name": "stdout",
     "output_type": "stream",
     "text": [
      "A coordenada atual do drone é: (0, 0)\n",
      "O drone chegou ao destino. Foram percorridos 100 metros.\n",
      "A coordenada atual do drone é: (100, 2)\n",
      "A autonomia da bateria atualmente é 18 minutos e 49 segundos.\n",
      "A distancia total percorrida pelo drone é 100 metros.\n",
      "A distancia percorrida pelo drone desde o último carregamento é 100 metros.\n",
      "O drone chegou ao destino. Foram percorridos 164 metros.\n",
      "A coordenada atual do drone é: (264, 15)\n",
      "A autonomia da bateria atualmente é 17 minutos e 0 segundos.\n",
      "A distancia total percorrida pelo drone é 264 metros.\n",
      "A distancia percorrida pelo drone desde o último carregamento é 264 metros.\n",
      "A bateria foi carregada.\n",
      "Há carga para duração de 20 minutos e 0 segundos.\n",
      "A distancia total percorrida pelo drone é 264 metros.\n",
      "A distancia percorrida pelo drone desde o último carregamento é 0 metros.\n",
      "O drone chegou ao destino. Foram percorridos 1772 metros.\n",
      "A coordenada atual do drone é: (123, 1782)\n",
      "A autonomia da bateria atualmente é 3 minutos e 46 segundos.\n",
      "A distancia total percorrida pelo drone é 2037 metros.\n",
      "A distancia percorrida pelo drone desde o último carregamento é 1772 metros.\n"
     ]
    }
   ],
   "source": [
    "#seu código aqui\n",
    "class Drone:\n",
    "    def __init__(self):\n",
    "        self.x = 0\n",
    "        self.y = 0\n",
    "        self.z = 0\n",
    "        self.bat=1200\n",
    "        self.dist = 0\n",
    "        self.dist_total = 0\n",
    "    def voar(self, x1, y1):\n",
    "        if (abs(x1-self.x)/2+abs(y1-self.y)/2+20)<=self.bat:\n",
    "            a = ((x1-self.x)**2+(y1-self.y)**2)**0.5\n",
    "            self.dist += a\n",
    "            self.dist_total += a\n",
    "            self.bat -= (abs(x1-self.x)/2+abs(y1-self.y)/2+20)\n",
    "            self.x = x1\n",
    "            self.y = y1\n",
    "            print('O drone chegou ao destino. Foram percorridos %d metros.' %a)\n",
    "            self.coordenada()\n",
    "        else:\n",
    "            print('Não há bateria para se deslocar até o destino.')\n",
    "            print('Favor recarregar a bateria.')\n",
    "    def carregar_bateria(self, quant):\n",
    "        if quant+self.bat<=1200:\n",
    "            self.bat += quant\n",
    "        else:\n",
    "            self.bat = 1200\n",
    "        print('A bateria foi carregada.')\n",
    "        print('Há carga para duração de %d minutos e %d segundos.' %(int(self.bat/60), self.bat%60))\n",
    "        self.dist = 0\n",
    "    def autonomia_bateria(self):\n",
    "        print('A autonomia da bateria atualmente é %d minutos e %d segundos.' %(int(self.bat/60), self.bat%60))\n",
    "    def distancia_total(self):\n",
    "        print('A distancia total percorrida pelo drone é %d metros.' %self.dist_total)\n",
    "    def distancia_carga(self):\n",
    "        print('A distancia percorrida pelo drone desde o último carregamento é %d metros.' %self.dist)\n",
    "    def coordenada(i):\n",
    "        print('A coordenada atual do drone é:', (i.x, i.y))\n",
    "        \n",
    "D = Drone()\n",
    "D.coordenada()\n",
    "D.voar(100, 2)\n",
    "D.autonomia_bateria()\n",
    "D.distancia_total()\n",
    "D.distancia_carga()\n",
    "D.voar(264, 15)\n",
    "D.autonomia_bateria()\n",
    "D.distancia_total()\n",
    "D.distancia_carga()\n",
    "D.carregar_bateria(1200)\n",
    "D.distancia_total()\n",
    "D.distancia_carga()\n",
    "D.voar(123, 1782)\n",
    "D.autonomia_bateria()\n",
    "D.distancia_total()\n",
    "D.distancia_carga()"
   ]
  },
  {
   "cell_type": "markdown",
   "metadata": {
    "collapsed": true
   },
   "source": [
    "Questão Bônus (0,5 pontos)  \n",
    "\n",
    "O problema de Monty Hall, também conhecido por paradoxo de Monty Hall é um problema matemático e paradoxo que surgiu a partir de um concurso televisivo dos Estados Unidos chamado \"Let’s Make a Deal\", exibido na década de 1970. O jogo consiste no seguinte: Monty Hall (o apresentador) apresentava 3 portas aos concorrentes, sabendo que atrás de uma delas está um carro (prêmio bom) e que as outras têm prêmios de pouco valor.\n",
    "\n",
    "- Na 1ª etapa o concorrente escolhe uma porta (que ainda não é aberta);  \n",
    "- Em seguida, Monty abre uma das outras duas portas que o concorrente não escolheu, sabendo de antemão que o carro não se encontra na porta que abrirá;  \n",
    "- Agora com duas portas apenas para escolher — pois uma delas já se viu, na 2ª etapa, que não tinha o prêmio — e sabendo que o carro está atrás de uma delas, o concorrente tem que se decidir se permanece com a porta que escolheu no início do jogo e abre-a ou se muda para a outra porta que ainda está fechada para então a abrir.  \n",
    "\n",
    "Demonstre graficamente que é mais provável ganhar o prêmio se trocar de porta do que se não o fizer. Quais as probabilidade de acertar, em ambos os casos?"
   ]
  },
  {
   "cell_type": "code",
   "execution_count": null,
   "metadata": {
    "collapsed": true
   },
   "outputs": [],
   "source": [
    "#seu código aqui"
   ]
  },
  {
   "cell_type": "markdown",
   "metadata": {},
   "source": [
    "Auto-avaliação (0,5 pontos)  \n",
    "Escreva sua auto-avaliação (mínimo de 3 linhas) e atribua a esta um valor entre 0 e 0,5, levando em consideração o aproveitamento na disciplina.  "
   ]
  },
  {
   "cell_type": "code",
   "execution_count": null,
   "metadata": {
    "collapsed": true
   },
   "outputs": [],
   "source": []
  }
 ],
 "metadata": {
  "kernelspec": {
   "display_name": "Python 3",
   "language": "python",
   "name": "python3"
  },
  "language_info": {
   "codemirror_mode": {
    "name": "ipython",
    "version": 3
   },
   "file_extension": ".py",
   "mimetype": "text/x-python",
   "name": "python",
   "nbconvert_exporter": "python",
   "pygments_lexer": "ipython3",
   "version": "3.5.2+"
  }
 },
 "nbformat": 4,
 "nbformat_minor": 1
}
