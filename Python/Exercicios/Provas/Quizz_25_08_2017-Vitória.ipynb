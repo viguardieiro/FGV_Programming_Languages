{
 "cells": [
  {
   "cell_type": "markdown",
   "metadata": {},
   "source": [
    "1 - Dadas uma lista qualquer, como a do exemplo abaixo:"
   ]
  },
  {
   "cell_type": "code",
   "execution_count": 2,
   "metadata": {
    "collapsed": true
   },
   "outputs": [],
   "source": [
    "lista = [1,2,3,'4',5,6.3,7.4 + 2j,\"123\",[1,2,3], 93, \"98\", (1,2,3,'4')]"
   ]
  },
  {
   "cell_type": "markdown",
   "metadata": {},
   "source": [
    "Crie uma função recursiva para imprimir o antecessor e o sucessor de cada elemento de uma lista:\n",
    "+ Caso este elemento seja inteiro, imprimir o valor;  \n",
    "+ Caso seja uma string, imprimir o inteiro correspondente;  \n",
    "+ Caso seja um real, imprima a parte inteira;\n",
    "+ Caso seja um imaginário, imprima a parte inteira e real;\n",
    "+ Caso seja uma sequência, aplique as regras acima para cada elemento da sequência.  "
   ]
  },
  {
   "cell_type": "code",
   "execution_count": null,
   "metadata": {
    "collapsed": true
   },
   "outputs": [],
   "source": []
  },
  {
   "cell_type": "markdown",
   "metadata": {},
   "source": [
    "2 - Crie uma função, ou conjunto de funções, para exibir por extenso o valor de qualquer número inteiro até 1000.  \n",
    "Exemplo:  \n",
    "\n",
    "    print(imprime_extenso(234))  \n",
    "    > 'duzentos e trinta e quatro'  "
   ]
  },
  {
   "cell_type": "code",
   "execution_count": 1,
   "metadata": {
    "collapsed": true
   },
   "outputs": [],
   "source": [
    "def imprime_extenso(n):\n",
    "    s = str(n)\n",
    "    k = 0\n",
    "    if s=='1000':\n",
    "        print('mil')\n",
    "        return\n",
    "    elif len(s)==3:\n",
    "        k = 1\n",
    "        if s[0]=='1':\n",
    "            if s[1]=='0' and s[2]=='0':\n",
    "                print('cem')\n",
    "                return\n",
    "            else:\n",
    "                print('cento', end='')\n",
    "        elif s[0]=='2':\n",
    "            print('duzentos', end='')\n",
    "        elif s[0]=='3':\n",
    "            print('trezentos', end='')\n",
    "        elif s[0]=='4':\n",
    "            print('quatrocentos', end='')\n",
    "        elif s[0]=='5':\n",
    "            print('quinhentos', end='')\n",
    "        elif s[0]=='6':\n",
    "            print('seiscentos', end='')\n",
    "        elif s[0]=='7':\n",
    "            print('setecentos', end='')\n",
    "        elif s[0]=='8':\n",
    "            print('oitocentos', end='')\n",
    "        elif s[0]=='9':\n",
    "            print('novecentos', end='')\n",
    "        if s[1]!='0':\n",
    "            print(' e ', end='')\n",
    "    if len(s)>=2:\n",
    "        if s[k]=='1':\n",
    "            if s[1+k]=='0':\n",
    "                print('dez')\n",
    "            elif s[1+k]=='1':\n",
    "                print('onze')\n",
    "            elif s[1+k]=='2':\n",
    "                print('doze')\n",
    "            elif s[1+k]=='3':\n",
    "                print('treze')\n",
    "            elif s[1+k]=='4':\n",
    "                print('quatorze')\n",
    "            elif s[1+k]=='5':\n",
    "                print('quinze')\n",
    "            elif s[1+k]=='6':\n",
    "                print('dezesseis')\n",
    "            elif s[1+k]=='7':\n",
    "                print('dezessete')\n",
    "            elif s[1+k]=='8':\n",
    "                print('dezoito')\n",
    "            elif s[1+k]=='9':\n",
    "                print('dezenove')\n",
    "            return\n",
    "        else:\n",
    "            if s[k]=='2':\n",
    "                print('vinte', end='')\n",
    "            elif s[k]=='3':\n",
    "                print('trinta', end='')\n",
    "            elif s[k]=='4':\n",
    "                print('quarenta', end='')\n",
    "            elif s[k]=='5':\n",
    "                print('cinquenta', end='')\n",
    "            elif s[k]=='6':\n",
    "                print('sessenta', end='')\n",
    "            elif s[k]=='7':\n",
    "                print('setenta', end='')\n",
    "            elif s[k]=='8':\n",
    "                print('oitenta', end='')\n",
    "            elif s[k]=='9':\n",
    "                print('noventa', end='')\n",
    "            k = k+1\n",
    "            if s[k]!='0':\n",
    "                print(' e ', end='')\n",
    "    if k==0 and s[0]=='0':\n",
    "        print('zero')\n",
    "    else:\n",
    "        if s[k]=='1':\n",
    "            print('um')\n",
    "        elif s[k]=='2':\n",
    "            print('dois')\n",
    "        elif s[k]=='3':\n",
    "            print('três')\n",
    "        elif s[k]=='4':\n",
    "            print('quatro')\n",
    "        elif s[k]=='5':\n",
    "            print('cinco')\n",
    "        elif s[k]=='6':\n",
    "            print('seis')\n",
    "        elif s[k]=='7':\n",
    "            print('sete')\n",
    "        elif s[k]=='8':\n",
    "            print('oito')\n",
    "        elif s[k]=='9':\n",
    "            print('nove')\n"
   ]
  },
  {
   "cell_type": "markdown",
   "metadata": {},
   "source": [
    "3- Em alguns lugares é comum lembrar um número do telefone associando seus dígitos a letras. Dessa maneira a expressão MY LOVE significa 69 5683. Claro que existem alguns problemas, uma vez que alguns números de telefone não formam uma palavra ou uma frase e os dígitos 1 e 0 não estão associados a nenhuma letra.  \n",
    "\n",
    "Sua tarefa é ler uma expressão e encontrar o número de telefone correspondente baseado na tabela abaixo. Uma expressão é composta por letras maiúsculas (A-Z), hifens (-) e os números 1 e 0.  \n",
    "\n",
    "Letras  ->  Número  \n",
    "ABC    ->  2   \n",
    "DEF    ->  3   \n",
    "GHI    ->  4   \n",
    "JKL    ->  5   \n",
    "MNO    ->  6   \n",
    "PQRS    ->  7   \n",
    "TUV    ->  8   \n",
    "WXYZ   ->  9   \n",
    "\n",
    "Entrada  \n",
    "\n",
    "A entrada consiste de um conjunto de expressões. Cada expressão está sozinha em uma linha e possui C caracteres, onde 1 ≤ C ≤ 30. A entrada é terminada por fim de arquivo (EOF).  \n",
    "\n",
    "Saída  \n",
    "\n",
    "Para cada expressão você deve imprimir o número de telefone correspondente.  \n",
    "\n",
    "Exemplo de entrada:  \n",
    "\n",
    "1-HOME-SWEET-HOME  \n",
    "MY-MISERABLE-JOB  \n",
    "\n",
    "Saída correspondente:\n",
    "\n",
    "1-4663-79338-4663  \n",
    "69-647372253-562  "
   ]
  },
  {
   "cell_type": "code",
   "execution_count": 14,
   "metadata": {},
   "outputs": [
    {
     "name": "stdout",
     "output_type": "stream",
     "text": [
      "1-HOME-SWEET-HOME\n",
      "1-4663-79338-4663\n",
      "MY-MISERABLE-JOB\n",
      "69-647372253-562\n"
     ]
    }
   ],
   "source": [
    "D = {'A': 2, 'B': 2, 'C': 2, 'D': 3, 'E': 3, 'F':3, 'G':4, 'H': 4, 'I': 4, 'J':5, 'K':5, 'L': 5, 'M': 6, 'N': 6, 'O': 6,\n",
    "    'P': 7, 'Q':7, 'R':7, 'S':7, 'T':8, 'U':8, 'V':8, 'W':9, 'X':9, 'Y':9, 'Z':9}\n",
    "while True:\n",
    "    try:\n",
    "        I = input()\n",
    "        for i in I:\n",
    "            if i in D:\n",
    "                print(D[i], end='')\n",
    "            else:\n",
    "                print(i, end='')\n",
    "        print()\n",
    "    except:\n",
    "        break"
   ]
  },
  {
   "cell_type": "markdown",
   "metadata": {},
   "source": [
    "4- Dada um texto em formato string, encontre todas as palavras pertencentes a esta string que contenham uma determinada letra, passada como parâmetro. "
   ]
  },
  {
   "cell_type": "code",
   "execution_count": 15,
   "metadata": {},
   "outputs": [
    {
     "name": "stdout",
     "output_type": "stream",
     "text": [
      "oi eae como vai voce\n",
      "o\n",
      "oi\n",
      "como\n",
      "voce\n"
     ]
    }
   ],
   "source": [
    "I = input().split()\n",
    "c = input()\n",
    "for palavra in I:\n",
    "    k = False\n",
    "    for letra in palavra:\n",
    "        if letra==c:\n",
    "            k = True\n",
    "    if k:\n",
    "        print(palavra)"
   ]
  },
  {
   "cell_type": "code",
   "execution_count": null,
   "metadata": {
    "collapsed": true
   },
   "outputs": [],
   "source": []
  }
 ],
 "metadata": {
  "kernelspec": {
   "display_name": "Python 3",
   "language": "python",
   "name": "python3"
  },
  "language_info": {
   "codemirror_mode": {
    "name": "ipython",
    "version": 3
   },
   "file_extension": ".py",
   "mimetype": "text/x-python",
   "name": "python",
   "nbconvert_exporter": "python",
   "pygments_lexer": "ipython3",
   "version": "3.5.2+"
  }
 },
 "nbformat": 4,
 "nbformat_minor": 2
}
