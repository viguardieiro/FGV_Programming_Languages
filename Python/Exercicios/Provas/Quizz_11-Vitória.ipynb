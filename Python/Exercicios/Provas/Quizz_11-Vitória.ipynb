{
 "cells": [
  {
   "cell_type": "markdown",
   "metadata": {},
   "source": [
    "1 - Quais são as estruturas de dados primitivas mais comuns na linguagem Python? Exemplifique criando variáveis de cada uma destas estruturas."
   ]
  },
  {
   "cell_type": "markdown",
   "metadata": {
    "collapsed": true
   },
   "source": [
    "Tipos numéricos(Inteiros, floats, boleanos, complexos), lista, string, conjunto, dicionário e tupla"
   ]
  },
  {
   "cell_type": "code",
   "execution_count": 7,
   "metadata": {
    "collapsed": true
   },
   "outputs": [],
   "source": [
    "inteiro = 1\n",
    "floaT = 1.0\n",
    "boleano = True\n",
    "complexo = 3 + 1j\n",
    "lista = [1, 2, 3]\n",
    "string = 'oi'\n",
    "conjunto = {1, 2, 3}\n",
    "dicionario = {'uai': 1, 'oi': 'ola'}\n",
    "tupla = (1, 2, 3)"
   ]
  },
  {
   "cell_type": "markdown",
   "metadata": {},
   "source": [
    "2 - Dê pelo menos 5 exemplos de conversões entre tipos de dados, utilizando as variáveis criadas na questão anterior  "
   ]
  },
  {
   "cell_type": "code",
   "execution_count": 9,
   "metadata": {},
   "outputs": [
    {
     "data": {
      "text/plain": [
       "(1, 2, 3)"
      ]
     },
     "execution_count": 9,
     "metadata": {},
     "output_type": "execute_result"
    }
   ],
   "source": [
    "tupla2 = tuple(lista)\n",
    "tupla2"
   ]
  },
  {
   "cell_type": "code",
   "execution_count": 11,
   "metadata": {},
   "outputs": [
    {
     "data": {
      "text/plain": [
       "{'i', 'o'}"
      ]
     },
     "execution_count": 11,
     "metadata": {},
     "output_type": "execute_result"
    }
   ],
   "source": [
    "conj2 = set(string)\n",
    "conj2"
   ]
  },
  {
   "cell_type": "code",
   "execution_count": 13,
   "metadata": {},
   "outputs": [
    {
     "data": {
      "text/plain": [
       "['oi', 'uai']"
      ]
     },
     "execution_count": 13,
     "metadata": {},
     "output_type": "execute_result"
    }
   ],
   "source": [
    "lista2 = list(dicionario)\n",
    "lista2"
   ]
  },
  {
   "cell_type": "code",
   "execution_count": 14,
   "metadata": {},
   "outputs": [
    {
     "data": {
      "text/plain": [
       "1.0"
      ]
     },
     "execution_count": 14,
     "metadata": {},
     "output_type": "execute_result"
    }
   ],
   "source": [
    "float2 = float(inteiro)\n",
    "float2"
   ]
  },
  {
   "cell_type": "code",
   "execution_count": 16,
   "metadata": {},
   "outputs": [
    {
     "data": {
      "text/plain": [
       "True"
      ]
     },
     "execution_count": 16,
     "metadata": {},
     "output_type": "execute_result"
    }
   ],
   "source": [
    "boleano2 = bool(inteiro)\n",
    "boleano2"
   ]
  },
  {
   "cell_type": "markdown",
   "metadata": {},
   "source": [
    "3- Exemplifique o uso de algumas primitivas, de forma isolada ou combinada, para criar as seguintes estruturas de dados:  \n",
    "\n",
    "+ Um registro médico\n",
    "+ Uma matriz de pixels em formato RGB\n",
    "+ Um conjunto de coordenadas geográficas representando a sede da prefeitura e do corpo de bombeiros em 4 cidades diferentes"
   ]
  },
  {
   "cell_type": "code",
   "execution_count": 94,
   "metadata": {
    "collapsed": true
   },
   "outputs": [],
   "source": [
    "registro = {'Nome': 'Gertrudes', 'Sexo': 'F', 'Altura': 1.73, 'Peso': 68, 'Data de nascimento': '10/03/1982', 'Tipo sanguíneo': 'O+', 'Doenças pré-existentes': ['Diabetes']}"
   ]
  },
  {
   "cell_type": "code",
   "execution_count": 68,
   "metadata": {
    "collapsed": true
   },
   "outputs": [],
   "source": [
    "matriz = [[{'R': 0, 'G': 0, 'B':0}, {'R': 0, 'G': 0, 'B':0}, {'R': 0, 'G': 0, 'B':0}],\n",
    "          [{'R': 0, 'G': 0, 'B':0}, {'R': 0, 'G': 0, 'B':0}, {'R': 0, 'G': 0, 'B':0}],\n",
    "          [{'R': 0, 'G': 0, 'B':0}, {'R': 0, 'G': 0, 'B':0}, {'R': 0, 'G': 0, 'B':0}]]\n",
    "    "
   ]
  },
  {
   "cell_type": "code",
   "execution_count": 78,
   "metadata": {
    "collapsed": true
   },
   "outputs": [],
   "source": [
    "coord = {'cidade1': {'prefeitura': ['110N', '20W'], 'corpo de bombeiros': ['116N', '20W']},\n",
    "         'cidade2': {'prefeitura': ['110S', '40E'], 'corpo de bombeiros': ['108S', '42E']},\n",
    "         'cidade3': {'prefeitura': ['15N', '21E'], 'corpo de bombeiros': ['16N', '20E']},\n",
    "         'cidade4': {'prefeitura': ['67S', '34W'], 'corpo de bombeiros': ['70S', '32W']}}"
   ]
  },
  {
   "cell_type": "markdown",
   "metadata": {},
   "source": [
    "4- Exemplifique o acesso aos elementos de informação das estruturas criadas na questão anterior."
   ]
  },
  {
   "cell_type": "code",
   "execution_count": 92,
   "metadata": {},
   "outputs": [
    {
     "data": {
      "text/plain": [
       "'O+'"
      ]
     },
     "execution_count": 92,
     "metadata": {},
     "output_type": "execute_result"
    }
   ],
   "source": [
    "registro['Tipo sanguíneo'] "
   ]
  },
  {
   "cell_type": "code",
   "execution_count": 74,
   "metadata": {},
   "outputs": [
    {
     "data": {
      "text/plain": [
       "0"
      ]
     },
     "execution_count": 74,
     "metadata": {},
     "output_type": "execute_result"
    }
   ],
   "source": [
    "#\"Quantidade\" de azul no terceiro pixel da segunda linha:\n",
    "matriz[1][2]['B']"
   ]
  },
  {
   "cell_type": "code",
   "execution_count": 81,
   "metadata": {},
   "outputs": [
    {
     "data": {
      "text/plain": [
       "'15N'"
      ]
     },
     "execution_count": 81,
     "metadata": {},
     "output_type": "execute_result"
    }
   ],
   "source": [
    "#Latitude da prefeitura da cidade3\n",
    "coord['cidade3']['prefeitura'][0]"
   ]
  },
  {
   "cell_type": "markdown",
   "metadata": {},
   "source": [
    "5- Explique o que são, exemplifique, e mostre algumas características de:  \n",
    "\n",
    "+ Tipos mutáveis e tipos imutáveis  \n",
    "+ Tipos \"container\"\n",
    "+ Tipos sequenciais\n"
   ]
  },
  {
   "cell_type": "markdown",
   "metadata": {
    "collapsed": true
   },
   "source": [
    "Imutável: Uma vez criado, não pode ser alterado. Seus métodos retornam valores ao invés de modificá-lo.\n",
    "Mutável: Pode ser alterado a qualquer momento. Seus métodos o modificam ao invés de retornar valores."
   ]
  },
  {
   "cell_type": "code",
   "execution_count": 25,
   "metadata": {},
   "outputs": [
    {
     "name": "stdout",
     "output_type": "stream",
     "text": [
      "bom dia araguari\n",
      "BOM DIA ARAGUARI\n",
      "None\n",
      "set()\n"
     ]
    }
   ],
   "source": [
    "#String: imutável\n",
    "string = 'BOM DIA ARAGUARI'\n",
    "retorno = string.lower()\n",
    "print(retorno)\n",
    "print(string)\n",
    "\n",
    "#Conjunto: mutável\n",
    "conjunto = {'araguari', 'uberlandia', 'uberaba', 'itumbiara', 'ituiutaba'}\n",
    "retorno = conjunto.clear()\n",
    "print(retorno)\n",
    "print(conjunto)"
   ]
  },
  {
   "cell_type": "markdown",
   "metadata": {
    "collapsed": true
   },
   "source": [
    "Container: armazenam mais que um valor."
   ]
  },
  {
   "cell_type": "code",
   "execution_count": 32,
   "metadata": {
    "collapsed": true
   },
   "outputs": [],
   "source": [
    "#Int: não-conteiner\n",
    "inteiro = 2\n",
    "#Não pode: inteiro = 2 3\n",
    "\n",
    "#Lista: conteiner\n",
    "lista = [2, 3]\n"
   ]
  },
  {
   "cell_type": "markdown",
   "metadata": {
    "collapsed": true
   },
   "source": [
    "Tipo sequencial: necessariamente um conteiner, mas que é possível acessar os dados por índices inteiros ordenados."
   ]
  },
  {
   "cell_type": "code",
   "execution_count": 36,
   "metadata": {},
   "outputs": [
    {
     "name": "stdout",
     "output_type": "stream",
     "text": [
      "A\n"
     ]
    }
   ],
   "source": [
    "#String: sequencial\n",
    "string = 'BOM DIA ARAGUARI'\n",
    "print(string[10])\n",
    "\n",
    "#Dicionário: não sequencial\n",
    "dicionario = {'uai': 19000, 'ue': 2}\n",
    "#Não pode: print(dicionario[1])"
   ]
  },
  {
   "cell_type": "markdown",
   "metadata": {},
   "source": [
    "6- Exemplifique chamadas de métodos em variáveis associadas a tipos de dados que:  \n",
    "+ Não modifiquem a variável e não retornem valores à chamada do método \n",
    "+ Modifiquem a variável mas não retornem valores à chamada do método\n",
    "+ Não modifiquem a variável mas retornem valores à chamada do método\n",
    "+ Modifiquem a variável e retornem valores à chamada do método  "
   ]
  },
  {
   "cell_type": "code",
   "execution_count": 91,
   "metadata": {},
   "outputs": [
    {
     "name": "stdout",
     "output_type": "stream",
     "text": [
      "42\n",
      "retorno: None\n",
      "inteiro: 42\n"
     ]
    }
   ],
   "source": [
    "inteiro = 42\n",
    "retorno = print(inteiro) \n",
    "print('retorno: ' + str(retorno))\n",
    "print('inteiro: ' + str(inteiro)) "
   ]
  },
  {
   "cell_type": "code",
   "execution_count": 44,
   "metadata": {},
   "outputs": [
    {
     "name": "stdout",
     "output_type": "stream",
     "text": [
      "retorno: None\n",
      "conjunto: set()\n"
     ]
    }
   ],
   "source": [
    "conjunto = {'araguari', 'uberlandia', 'uberaba', 'itumbiara', 'ituiutaba'}\n",
    "retorno = conjunto.clear()\n",
    "print('retorno: ' + str(retorno))\n",
    "print('conjunto: ' + str(conjunto))"
   ]
  },
  {
   "cell_type": "code",
   "execution_count": 45,
   "metadata": {},
   "outputs": [
    {
     "name": "stdout",
     "output_type": "stream",
     "text": [
      "retorno: bom dia araguari\n",
      "string: BOM DIA ARAGUARI\n"
     ]
    }
   ],
   "source": [
    "string = 'BOM DIA ARAGUARI'\n",
    "retorno = string.lower()\n",
    "print('retorno: ' + str(retorno))\n",
    "print('string: ' + str(string))"
   ]
  },
  {
   "cell_type": "code",
   "execution_count": 90,
   "metadata": {},
   "outputs": [
    {
     "name": "stdout",
     "output_type": "stream",
     "text": [
      "retorno:5\n",
      "lista:[1, 2, 3, 4]\n"
     ]
    }
   ],
   "source": [
    "lista = [1, 2, 3, 4, 5]\n",
    "retorno = lista.pop() \n",
    "print('retorno:' + str(retorno))\n",
    "print('lista:' + str(lista)) "
   ]
  },
  {
   "cell_type": "markdown",
   "metadata": {},
   "source": [
    "7- Exemplifique o uso de métodos para:  \n",
    "+ Testar se uma string pode ser convertida para um inteiro  \n",
    "+ Testar se um conjunto é subconjunto de outro\n",
    "+ Concatenar duas listas\n",
    "+ Contar as ocorrências de um elemento em uma lista"
   ]
  },
  {
   "cell_type": "code",
   "execution_count": 84,
   "metadata": {},
   "outputs": [
    {
     "name": "stdout",
     "output_type": "stream",
     "text": [
      "True\n"
     ]
    }
   ],
   "source": [
    "string = '14'\n",
    "cheq = string.isalnum()\n",
    "print(cheq)"
   ]
  },
  {
   "cell_type": "code",
   "execution_count": 87,
   "metadata": {},
   "outputs": [
    {
     "name": "stdout",
     "output_type": "stream",
     "text": [
      "False\n"
     ]
    }
   ],
   "source": [
    "arcoiris = {'Vermelho', 'Laranja', 'Amarelo', 'Verde', 'Azul', 'Anil', 'Violeta'}\n",
    "brasil = {'Verde', 'Amarelo', 'Azul', 'Branco'}\n",
    "cheq = brasil.issubset(arcoiris)\n",
    "print(cheq)"
   ]
  },
  {
   "cell_type": "code",
   "execution_count": 62,
   "metadata": {},
   "outputs": [
    {
     "name": "stdout",
     "output_type": "stream",
     "text": [
      "[1, 2, 3, 4, 5, 6]\n"
     ]
    }
   ],
   "source": [
    "lista1 = [1, 2, 3]\n",
    "lista2 = [4, 5, 6]\n",
    "lista1.extend(lista2)\n",
    "print(lista1)"
   ]
  },
  {
   "cell_type": "code",
   "execution_count": 66,
   "metadata": {},
   "outputs": [
    {
     "name": "stdout",
     "output_type": "stream",
     "text": [
      "2\n"
     ]
    }
   ],
   "source": [
    "lista = ['oi', 'uai', 17, 21, 'brigadeiro', 'uai']\n",
    "cont = lista.count('uai')\n",
    "print(cont)"
   ]
  },
  {
   "cell_type": "markdown",
   "metadata": {},
   "source": [
    "Deescreva, em linhas gerais, o que é uma linguagem de programação, e para que serve. "
   ]
  },
  {
   "cell_type": "markdown",
   "metadata": {
    "collapsed": true
   },
   "source": [
    "Conjunto de comandos que possuem o poder de modificar dados, com ou sem restrições, de forma a facilitar a interação programador-máquina."
   ]
  },
  {
   "cell_type": "markdown",
   "metadata": {},
   "source": [
    "Feedback: o que você está achando do curso até agora?  "
   ]
  },
  {
   "cell_type": "markdown",
   "metadata": {},
   "source": []
  }
 ],
 "metadata": {
  "kernelspec": {
   "display_name": "Python 3",
   "language": "python",
   "name": "python3"
  },
  "language_info": {
   "codemirror_mode": {
    "name": "ipython",
    "version": 3
   },
   "file_extension": ".py",
   "mimetype": "text/x-python",
   "name": "python",
   "nbconvert_exporter": "python",
   "pygments_lexer": "ipython3",
   "version": "3.5.2+"
  }
 },
 "nbformat": 4,
 "nbformat_minor": 2
}
