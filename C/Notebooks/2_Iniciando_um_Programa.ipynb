{
 "cells": [
  {
   "cell_type": "markdown",
   "metadata": {},
   "source": [
    "## Começando a programar:\n",
    "\n",
    "Todo programa em C usa bibliotecas que proporcionam a habilidade de executar funções necessárias.  Por exemplo, a função mais básica é a $\\textit{printf}$ que é definida pelo leitor de arquivos $\\textit{studio.h}$ e imprime na tela o que foi definido dentro dela.\n",
    "\n",
    "Para obtermos a capacidade de usar o $\\textit{printf}$ em nosso programa devemos seguir o seguinte passo inicial: na primeira linha colocaremos $\\textit{#include < nome da biblioteca >}$.\n"
   ]
  },
  {
   "cell_type": "code",
   "execution_count": 1,
   "metadata": {},
   "outputs": [
    {
     "name": "stderr",
     "output_type": "stream",
     "text": [
      "/tmp/tmpsyv4vghu.c:1:20: fatal error: studio.h: No such file or directory\n",
      " #include <studio.h>\n",
      "                    ^\n",
      "compilation terminated.\n",
      "[C kernel] GCC exited with code 1, the executable will not be executed"
     ]
    },
    {
     "name": "stdout",
     "output_type": "stream",
     "text": []
    }
   ],
   "source": [
    "#include <stdio.h>"
   ]
  },
  {
   "cell_type": "markdown",
   "metadata": {},
   "source": [
    "Se quisermos declarar mais de uma biblioteca, devemos fazer a mesma coisa para cada uma delas. Veja no exemplo abaixo:"
   ]
  },
  {
   "cell_type": "markdown",
   "metadata": {},
   "source": [
    "#include < studio.h >\n",
    "\n",
    "#include < stdlib.h >\n",
    "\n",
    "#include < ctype.h >"
   ]
  },
  {
   "cell_type": "markdown",
   "metadata": {},
   "source": [
    "A segunda parte do código é o próprio código que vamos escrever. O primeiro código que será executado sempre residirá na função $\\textit{main}$."
   ]
  },
  {
   "cell_type": "markdown",
   "metadata": {},
   "source": [
    "int main()\n",
    "\n",
    "{\n",
    "\n",
    "o código ...\n",
    "\n",
    "}"
   ]
  },
  {
   "cell_type": "markdown",
   "metadata": {},
   "source": [
    "A palavra-chave $\\textit{int}$ indica que a $\\textit{main}$ retornará um número inteiro - um número simples. O número que será retornado pela função indica se o programa que escrevemos funcionou corretamente. Se quisermos dizer que nosso código foi executado com sucesso, retornaremos o número 0. Um número maior que 0 significará que o programa que escrevemos falhou."
   ]
  },
  {
   "cell_type": "code",
   "execution_count": 4,
   "metadata": {},
   "outputs": [
    {
     "name": "stderr",
     "output_type": "stream",
     "text": []
    },
    {
     "name": "stdout",
     "output_type": "stream",
     "text": [
      "Hello, World!"
     ]
    }
   ],
   "source": [
    "#include <stdio.h>\n",
    "\n",
    "int main() {\n",
    "  printf(\"Hello, World!\");\n",
    "  return 0;\n",
    "}"
   ]
  },
  {
   "cell_type": "code",
   "execution_count": null,
   "metadata": {
    "collapsed": true
   },
   "outputs": [],
   "source": []
  }
 ],
 "metadata": {
  "kernelspec": {
   "display_name": "C",
   "language": "c",
   "name": "c"
  },
  "language_info": {
   "file_extension": "c",
   "mimetype": "text/plain",
   "name": "c"
  }
 },
 "nbformat": 4,
 "nbformat_minor": 2
}
